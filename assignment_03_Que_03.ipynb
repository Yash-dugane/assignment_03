{
 "cells": [
  {
   "cell_type": "code",
   "execution_count": 2,
   "id": "128bec1a",
   "metadata": {},
   "outputs": [
    {
     "name": "stdout",
     "output_type": "stream",
     "text": [
      "No. of upper case characters :  3\n",
      "No. of lower case Characters :  12\n"
     ]
    }
   ],
   "source": [
    "# write a python function that accepts a string and calculate the number of upper case and lower case letters\n",
    "# sample = 'The quick Brown Fox'\n",
    "\n",
    "\n",
    "def string_test(x):\n",
    "    d={\"upper_case\":0, \"lower_case\":0}\n",
    "    for a in x:\n",
    "        if a.isupper():\n",
    "           d[\"upper_case\"]+=1\n",
    "        elif a.islower():\n",
    "           d[\"lower_case\"]+=1\n",
    "        else:\n",
    "           pass\n",
    "    \n",
    "    print (\"No. of upper case characters : \", d[\"upper_case\"])\n",
    "    print (\"No. of lower case Characters : \", d[\"lower_case\"])\n",
    "\n",
    "string_test('The quick Brow Fox')\n",
    "\n"
   ]
  }
 ],
 "metadata": {
  "kernelspec": {
   "display_name": "Python 3 (ipykernel)",
   "language": "python",
   "name": "python3"
  },
  "language_info": {
   "codemirror_mode": {
    "name": "ipython",
    "version": 3
   },
   "file_extension": ".py",
   "mimetype": "text/x-python",
   "name": "python",
   "nbconvert_exporter": "python",
   "pygments_lexer": "ipython3",
   "version": "3.10.1"
  }
 },
 "nbformat": 4,
 "nbformat_minor": 5
}
