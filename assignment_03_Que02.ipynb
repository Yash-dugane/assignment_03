{
 "cells": [
  {
   "cell_type": "code",
   "execution_count": 9,
   "id": "d14134ab",
   "metadata": {},
   "outputs": [
    {
     "name": "stdout",
     "output_type": "stream",
     "text": [
      "Reversed string =  dcba4321\n"
     ]
    }
   ],
   "source": [
    "# write a python program to reverse a string\n",
    "# sample string = '1234abcd'\n",
    "\n",
    "def reverse_string(x):\n",
    "    reverse_x = ''\n",
    "    index = len(x)\n",
    "    while index > 0:\n",
    "        reverse_x +=x[index-1]\n",
    "        index = index -1\n",
    "    return reverse_x\n",
    "print('Reversed string = ',reverse_string('1234abcd'))"
   ]
  }
 ],
 "metadata": {
  "kernelspec": {
   "display_name": "Python 3 (ipykernel)",
   "language": "python",
   "name": "python3"
  },
  "language_info": {
   "codemirror_mode": {
    "name": "ipython",
    "version": 3
   },
   "file_extension": ".py",
   "mimetype": "text/x-python",
   "name": "python",
   "nbconvert_exporter": "python",
   "pygments_lexer": "ipython3",
   "version": "3.10.1"
  }
 },
 "nbformat": 4,
 "nbformat_minor": 5
}
